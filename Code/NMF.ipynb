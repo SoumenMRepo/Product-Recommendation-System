{
 "cells": [
  {
   "cell_type": "code",
   "execution_count": 1,
   "metadata": {},
   "outputs": [],
   "source": [
    "%matplotlib inline\n",
    "import pandas as pd\n",
    "import numpy as np\n",
    "import sklearn\n",
    "import matplotlib.pyplot as plt\n",
    "from sklearn.decomposition import NMF"
   ]
  },
  {
   "cell_type": "code",
   "execution_count": 3,
   "metadata": {},
   "outputs": [
    {
     "name": "stdout",
     "output_type": "stream",
     "text": [
      "A109JTUZXO61UY\n",
      "Accurate Prediction : {'B0002CZSJO', 'B001PGXHX0', 'B0018TIADQ'}\n",
      "Accuracy of prediction:  60.0\n"
     ]
    }
   ],
   "source": [
    "df=pd.read_csv('C:\\MusicalDataset.csv')\n",
    "drop_col=['reviewText','reviewerName','reviewTime','summary']            #droping unnecessery column for us\n",
    "df.drop(drop_col, inplace=True, axis=1)\n",
    "df.dropna(how=\"all\", inplace=True)\n",
    "useritem_mat = df.pivot_table(index='reviewerID', columns='asin', values='overall') #user-item matrix with all na value as 0\n",
    "productmat0 =useritem_mat.fillna(0)\n",
    "\n",
    "nmf = NMF(n_components=180,solver=\"mu\")\n",
    "W = nmf.fit_transform(productmat0)\n",
    "H = nmf.components_\n",
    "Vt=np.matmul(W,H)\n",
    "VtFinal=pd.DataFrame(data=Vt[0:,0:],index=(productmat0.index),columns=(productmat0.columns))\n",
    "\n",
    "key=input()\n",
    "df0=productmat0.loc[[key]].T.sort_values(by=key, ascending=False)\n",
    "df1=df0[df0[key]!=0]\n",
    "df1=df1.drop([key],axis=1)\n",
    "df1 = df1.rename_axis(None)\n",
    "P=(df1.index).tolist()\n",
    "#print(\"Actual Product purchased for \"+key+\": \", P)\n",
    "\n",
    "N=VtFinal.loc[[key]].T\n",
    "N_item=N.sort_values(by=key,ascending=False)\n",
    "#print(\"The list of PRODUCT to be recommended for--->:\",N_item[:15])\n",
    "N_item1=N_item.drop([key],axis=1)\n",
    "N_item1 = N_item1.rename_axis(None)\n",
    "Q=(N_item1.index).tolist()[:10]\n",
    "#print(\"Predicted Product : \", Q)\n",
    "\n",
    "match = set(P) & set(Q)\n",
    "print (\"Accurate Prediction :\", match)\n",
    "accuracy=(len(match)/len(P))*100\n",
    "print(\"Accuracy of prediction: \", accuracy)"
   ]
  },
  {
   "cell_type": "code",
   "execution_count": null,
   "metadata": {},
   "outputs": [],
   "source": []
  },
  {
   "cell_type": "code",
   "execution_count": null,
   "metadata": {},
   "outputs": [],
   "source": []
  }
 ],
 "metadata": {
  "kernelspec": {
   "display_name": "Python 3",
   "language": "python",
   "name": "python3"
  },
  "language_info": {
   "codemirror_mode": {
    "name": "ipython",
    "version": 3
   },
   "file_extension": ".py",
   "mimetype": "text/x-python",
   "name": "python",
   "nbconvert_exporter": "python",
   "pygments_lexer": "ipython3",
   "version": "3.7.1"
  }
 },
 "nbformat": 4,
 "nbformat_minor": 2
}
